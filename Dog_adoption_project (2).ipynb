{
  "cells": [
    {
      "cell_type": "code",
      "execution_count": null,
      "id": "79a058a7",
      "metadata": {
        "id": "79a058a7"
      },
      "outputs": [],
      "source": [
        "import pandas as pd\n",
        "import numpy as np\n",
        "from selenium import webdriver\n",
        "import undetected_chromedriver as uc\n",
        "from selenium.webdriver.common.by import By\n",
        "from selenium.webdriver.support.ui import WebDriverWait\n",
        "from selenium.webdriver.support import expected_conditions as EC\n",
        "from selenium.common.exceptions import (ElementNotVisibleException, ElementNotSelectableException, NoSuchElementException)\n",
        "from selenium.webdriver.support.select import Select\n",
        "from selenium.webdriver import Chrome\n",
        "import datetime\n",
        "from datetime import datetime\n",
        "import time\n",
        "import matplotlib.pyplot as plt\n",
        "import seaborn as sns\n",
        "import matplotlib as mpl\n",
        "import sklearn\n",
        "from sklearn import linear_model, metrics, preprocessing\n",
        "from sklearn.preprocessing import StandardScaler, MinMaxScaler\n",
        "from sklearn.linear_model import LogisticRegression, LinearRegression\n",
        "from sklearn.model_selection import train_test_split\n",
        "from sklearn.metrics import r2_score, f1_score"
      ]
    },
    {
      "cell_type": "markdown",
      "id": "4711c95c",
      "metadata": {
        "id": "4711c95c"
      },
      "source": [
        "<b>Getting the links to all the pages containing the data we need about non-adopted dogs and saving it to a text file.</b>"
      ]
    },
    {
      "cell_type": "code",
      "execution_count": null,
      "id": "202fe40b",
      "metadata": {
        "id": "202fe40b"
      },
      "outputs": [],
      "source": [
        "driver = uc.Chrome()\n",
        "links=[]\n",
        "ignore_list = [ElementNotVisibleException, ElementNotSelectableException]\n",
        "for i in range(625):\n",
        "    driver.get(f'https://www.petfinder.com/search/dogs-for-adoption/ca/newfoundland-and-labrador/?distance=Anywhere&page={i}')\n",
        "\n",
        "    wait = WebDriverWait(driver, timeout=20, poll_frequency=1, ignored_exceptions=ignore_list)\n",
        "    element = wait.until(EC.element_to_be_clickable((By.XPATH, \"//span[@data-test='Pet_Card_Pet_Details_List']\")))\n",
        "\n",
        "    search_links = driver.find_elements(By.XPATH,\"//a[@href][@class='petCard-link']\")\n",
        "\n",
        "    for result in search_links:\n",
        "        links.append(result.get_attribute(\"href\"))\n",
        "\n",
        "driver.quit()\n",
        "f = open(\"non_adopted_links.txt\", \"w\")\n",
        "for link in links:\n",
        "    f.write(link+\"\\n\")\n",
        "f.close()"
      ]
    },
    {
      "cell_type": "markdown",
      "id": "718e4831",
      "metadata": {
        "id": "718e4831"
      },
      "source": [
        "<b>Getting the data from every link we collected in the last step.</b>"
      ]
    },
    {
      "cell_type": "code",
      "execution_count": null,
      "id": "3885a886",
      "metadata": {
        "id": "3885a886",
        "outputId": "55ed4ba0-6b4c-42c4-fb46-0bd12f2ee6b2"
      },
      "outputs": [
        {
          "name": "stdout",
          "output_type": "stream",
          "text": [
            "2023-05-05 16:43:16.629656\n",
            "10 % Done\n",
            "20 % Done\n",
            "30 % Done\n",
            "40 % Done\n",
            "50 % Done\n",
            "60 % Done\n",
            "70 % Done\n",
            "80 % Done\n",
            "90 % Done\n",
            "100 % Done\n",
            "2023-05-06 04:00:55.789073\n"
          ]
        }
      ],
      "source": [
        "dt = datetime.now()\n",
        "ts = datetime.timestamp(dt)\n",
        "dt = datetime.fromtimestamp(ts)\n",
        "print(dt)\n",
        "\n",
        "driver = uc.Chrome()\n",
        "\n",
        "names=[]\n",
        "age_groups=[]\n",
        "races=[]\n",
        "sexes=[]\n",
        "sizes=[]\n",
        "colors=[]\n",
        "vaccinations=[]\n",
        "adoption_fee=[]\n",
        "coat_length=[]\n",
        "house_trained=[]\n",
        "prefers_home_with=[]\n",
        "prefers_home_without=[]\n",
        "adopted=[]\n",
        "\n",
        "ignore_list = [ElementNotVisibleException, ElementNotSelectableException]\n",
        "\n",
        "index=0\n",
        "\n",
        "for link in links:\n",
        "\n",
        "    for j in range(10):\n",
        "        if index==25000*0.1*(j+1):\n",
        "            print((j+1)*10,\"% Done\")\n",
        "            break\n",
        "\n",
        "    index+=1\n",
        "\n",
        "    adopted.append(0)\n",
        "    adoptionFee=False\n",
        "    houseTrained=False\n",
        "    coatLen=False\n",
        "    vaccinated=False\n",
        "    prefersHomeWith=False\n",
        "    prefersHomeWithout=False\n",
        "\n",
        "    driver.get(link)\n",
        "    wait = WebDriverWait(driver, timeout=20, poll_frequency=1, ignored_exceptions=ignore_list)\n",
        "    try:\n",
        "        element = wait.until(EC.element_to_be_clickable((By.XPATH, \"//span[@class='u-displayBlock u-vr4x u-vr2x@minMd']\")))\n",
        "    except:\n",
        "        continue\n",
        "\n",
        "    try:\n",
        "        name = driver.find_element(By.XPATH,\"//span[@data-test='Pet_Name']\")\n",
        "        names.append(name.text)\n",
        "    except:\n",
        "        names.append(None)\n",
        "\n",
        "    try:\n",
        "        race = driver.find_element(By.XPATH,\"//span[@data-test='Pet_Breeds']\")\n",
        "        races.append(race.text)\n",
        "    except:\n",
        "        races.append(None)\n",
        "\n",
        "    try:\n",
        "        age = driver.find_element(By.XPATH,\"//span[@data-test='Pet_Age']\")\n",
        "        age_groups.append(age.text)\n",
        "    except:\n",
        "        age_groups.append(None)\n",
        "\n",
        "    try:\n",
        "        sex = driver.find_element(By.XPATH,\"//span[@data-test='Pet_Sex']\")\n",
        "        sexes.append(sex.text)\n",
        "    except:\n",
        "        sexes.append(None)\n",
        "\n",
        "    try:\n",
        "        size = driver.find_element(By.XPATH,\"//span[@data-test='Pet_Full_Grown_Size']\")\n",
        "        sizes.append(size.text)\n",
        "    except:\n",
        "        sizes.append(None)\n",
        "\n",
        "    try:\n",
        "        color = driver.find_element(By.XPATH,\"//span[@data-test='Pet_Primary_Color']\")\n",
        "        colors.append(color.text)\n",
        "    except:\n",
        "        colors.append(None)\n",
        "\n",
        "    try:\n",
        "        options = driver.find_element(By.XPATH,\"//div[@class='grid grid_gutterLg u-vr4x']\")\n",
        "\n",
        "        texts=options.text.split(\"\\n\")\n",
        "        length=len(texts)\n",
        "\n",
        "        for i in range(length):\n",
        "            if texts[i]==\"COAT LENGTH\":\n",
        "                coat_length.append(texts[i+1])\n",
        "                coatLen=True\n",
        "            elif texts[i]==\"HOUSE-TRAINED\":\n",
        "                house_trained.append(texts[i+1])\n",
        "                houseTrained=True\n",
        "            elif texts[i]==\"HEALTH\":\n",
        "                vaccinations.append(texts[i+1])\n",
        "                vaccinated=True\n",
        "            elif texts[i]==\"GOOD IN A HOME WITH\":\n",
        "                prefers_home_with.append(texts[i+1])\n",
        "                prefersHomeWith=True\n",
        "            elif texts[i]==\"PREFERS A HOME WITHOUT\":\n",
        "                prefers_home_without.append(texts[i+1])\n",
        "                prefersHomeWithout=True\n",
        "            elif texts[i]==\"ADOPTION FEE\":\n",
        "                adoption_fee.append(texts[i+1])\n",
        "                adoptionFee=True\n",
        "\n",
        "        if coatLen==False:\n",
        "            coat_length.append(None)\n",
        "        if houseTrained==False:\n",
        "            house_trained.append(None)\n",
        "        if vaccinated==False:\n",
        "            vaccinations.append(None)\n",
        "        if prefersHomeWith==False:\n",
        "            prefers_home_with.append(None)\n",
        "        if prefersHomeWithout==False:\n",
        "            prefers_home_without.append(None)\n",
        "        if adoptionFee==False:\n",
        "            adoption_fee.append(None)\n",
        "\n",
        "    except:\n",
        "        coat_length.append(None)\n",
        "        house_trained.append(None)\n",
        "        vaccinations.append(None)\n",
        "        prefers_home_with.append(None)\n",
        "        prefers_home_without.append(None)\n",
        "        adoption_fee.append(None)\n",
        "\n",
        "driver.quit()\n",
        "\n",
        "lists=[names,age_groups,races,sexes,sizes,colors,vaccinations,adoption_fee,coat_length,house_trained,prefers_home_with,prefers_home_without]\n",
        "file_names=[\"names.txt\",\"age_groups.txt\",\"races.txt\",\"sexes.txt\",\"sizes.txt\",\n",
        "           \"colors.txt\",\"vaccinations.txt\",\"adoption_fee.txt\",\"coat_length.txt\",\"house_trained.txt\",\"prefers_home_with.txt\",\"prefers_home_without.txt\"]\n",
        "for i in range(len(lists)):\n",
        "    f = open(file_names[i], \"w\")\n",
        "    for item in lists[i]:\n",
        "        if item==None:\n",
        "            f.write(\"None\\n\")\n",
        "        else:\n",
        "            f.write(item+\"\\n\")\n",
        "    f.close()\n",
        "\n",
        "dt = datetime.now()\n",
        "ts = datetime.timestamp(dt)\n",
        "dt = datetime.fromtimestamp(ts)\n",
        "print(dt)"
      ]
    },
    {
      "cell_type": "markdown",
      "id": "005b2e47",
      "metadata": {
        "id": "005b2e47"
      },
      "source": [
        "<b>Making sure we collected the data properly.</b>"
      ]
    },
    {
      "cell_type": "code",
      "execution_count": null,
      "id": "e803c687",
      "metadata": {
        "id": "e803c687",
        "outputId": "f39ec724-5dca-43b1-9e7c-0586784d8a1a"
      },
      "outputs": [
        {
          "name": "stdout",
          "output_type": "stream",
          "text": [
            "49993\n",
            "---------------------------------------\n",
            "49993\n",
            "---------------------------------------\n",
            "49993\n",
            "---------------------------------------\n",
            "49993\n",
            "---------------------------------------\n",
            "49993\n",
            "---------------------------------------\n",
            "49993\n",
            "---------------------------------------\n",
            "49993\n",
            "---------------------------------------\n",
            "49993\n",
            "---------------------------------------\n",
            "49993\n",
            "---------------------------------------\n",
            "49993\n",
            "---------------------------------------\n",
            "49993\n",
            "---------------------------------------\n",
            "49993\n"
          ]
        }
      ],
      "source": [
        "print(len(names))\n",
        "print(\"---------------------------------------\")\n",
        "print(len(age_groups))\n",
        "print(\"---------------------------------------\")\n",
        "print(len(races))\n",
        "print(\"---------------------------------------\")\n",
        "print(len(sexes))\n",
        "print(\"---------------------------------------\")\n",
        "print(len(sizes))\n",
        "print(\"---------------------------------------\")\n",
        "print(len(colors))\n",
        "print(\"---------------------------------------\")\n",
        "print(len(vaccinations))\n",
        "print(\"---------------------------------------\")\n",
        "print(len(adoption_fee))\n",
        "print(\"---------------------------------------\")\n",
        "print(len(coat_length))\n",
        "print(\"---------------------------------------\")\n",
        "print(len(house_trained))\n",
        "print(\"---------------------------------------\")\n",
        "print(len(prefers_home_with))\n",
        "print(\"---------------------------------------\")\n",
        "print(len(prefers_home_without))"
      ]
    },
    {
      "cell_type": "markdown",
      "id": "4994c21e",
      "metadata": {
        "id": "4994c21e"
      },
      "source": [
        "<b>Getting the links to all the pages containing the data we need about adopted dogs and saving it to a text file.</b>"
      ]
    },
    {
      "cell_type": "code",
      "execution_count": null,
      "id": "29951171",
      "metadata": {
        "id": "29951171"
      },
      "outputs": [],
      "source": [
        "driver = uc.Chrome()\n",
        "links=[]\n",
        "ignore_list = [ElementNotVisibleException, ElementNotSelectableException]\n",
        "for i in range(625):\n",
        "    driver.get(f'https://www.petfinder.com/search/dogs-adopted/ca/newfoundland-and-labrador/?distance=Anywhere&page={i}')\n",
        "\n",
        "    wait = WebDriverWait(driver, timeout=20, poll_frequency=1, ignored_exceptions=ignore_list)\n",
        "    element = wait.until(EC.element_to_be_clickable((By.XPATH, \"//span[@data-test='Pet_Card_Pet_Details_List']\")))\n",
        "\n",
        "    search_links = driver.find_elements(By.XPATH,\"//a[@href][@class='petCard-link']\")\n",
        "\n",
        "    for result in search_links:\n",
        "        links.append(result.get_attribute(\"href\"))\n",
        "\n",
        "driver.quit()\n",
        "f = open(\"adopted_links.txt\", \"w\")\n",
        "for link in links:\n",
        "    f.write(link+\"\\n\")\n",
        "f.close()"
      ]
    },
    {
      "cell_type": "markdown",
      "id": "d34b19c6",
      "metadata": {
        "id": "d34b19c6"
      },
      "source": [
        "<b>Getting the data from every link we collected in the last step.</b>"
      ]
    },
    {
      "cell_type": "code",
      "execution_count": null,
      "id": "b5460639",
      "metadata": {
        "id": "b5460639"
      },
      "outputs": [],
      "source": [
        "dt = datetime.now()\n",
        "ts = datetime.timestamp(dt)\n",
        "dt = datetime.fromtimestamp(ts)\n",
        "print(dt)\n",
        "\n",
        "driver = uc.Chrome()\n",
        "\n",
        "names=[]\n",
        "age_groups=[]\n",
        "races=[]\n",
        "sexes=[]\n",
        "sizes=[]\n",
        "colors=[]\n",
        "vaccinations=[]\n",
        "adoption_fee=[]\n",
        "coat_length=[]\n",
        "house_trained=[]\n",
        "prefers_home_with=[]\n",
        "prefers_home_without=[]\n",
        "adopted=[]\n",
        "\n",
        "ignore_list = [ElementNotVisibleException, ElementNotSelectableException]\n",
        "\n",
        "index=0\n",
        "\n",
        "for link in links:\n",
        "\n",
        "    for j in range(10):\n",
        "        if index==25000*0.1*(j+1):\n",
        "            print((j+1)*10,\"% Done\")\n",
        "            break\n",
        "\n",
        "    index+=1\n",
        "\n",
        "    adopted.append(0)\n",
        "    adoptionFee=False\n",
        "    houseTrained=False\n",
        "    coatLen=False\n",
        "    vaccinated=False\n",
        "    prefersHomeWith=False\n",
        "    prefersHomeWithout=False\n",
        "\n",
        "    driver.get(link)\n",
        "    wait = WebDriverWait(driver, timeout=20, poll_frequency=1, ignored_exceptions=ignore_list)\n",
        "    try:\n",
        "        element = wait.until(EC.element_to_be_clickable((By.XPATH, \"//span[@class='u-displayBlock u-vr4x u-vr2x@minMd']\")))\n",
        "    except:\n",
        "        continue\n",
        "\n",
        "    try:\n",
        "        name = driver.find_element(By.XPATH,\"//span[@data-test='Pet_Name']\")\n",
        "        names.append(name.text)\n",
        "    except:\n",
        "        names.append(None)\n",
        "\n",
        "    try:\n",
        "        race = driver.find_element(By.XPATH,\"//span[@data-test='Pet_Breeds']\")\n",
        "        races.append(race.text)\n",
        "    except:\n",
        "        races.append(None)\n",
        "\n",
        "    try:\n",
        "        age = driver.find_element(By.XPATH,\"//span[@data-test='Pet_Age']\")\n",
        "        age_groups.append(age.text)\n",
        "    except:\n",
        "        age_groups.append(None)\n",
        "\n",
        "    try:\n",
        "        sex = driver.find_element(By.XPATH,\"//span[@data-test='Pet_Sex']\")\n",
        "        sexes.append(sex.text)\n",
        "    except:\n",
        "        sexes.append(None)\n",
        "\n",
        "    try:\n",
        "        size = driver.find_element(By.XPATH,\"//span[@data-test='Pet_Full_Grown_Size']\")\n",
        "        sizes.append(size.text)\n",
        "    except:\n",
        "        sizes.append(None)\n",
        "\n",
        "    try:\n",
        "        color = driver.find_element(By.XPATH,\"//span[@data-test='Pet_Primary_Color']\")\n",
        "        colors.append(color.text)\n",
        "    except:\n",
        "        colors.append(None)\n",
        "\n",
        "    try:\n",
        "        options = driver.find_element(By.XPATH,\"//div[@class='grid grid_gutterLg u-vr4x']\")\n",
        "\n",
        "        texts=options.text.split(\"\\n\")\n",
        "        length=len(texts)\n",
        "\n",
        "        for i in range(length):\n",
        "            if texts[i]==\"COAT LENGTH\":\n",
        "                coat_length.append(texts[i+1])\n",
        "                coatLen=True\n",
        "            elif texts[i]==\"HOUSE-TRAINED\":\n",
        "                house_trained.append(texts[i+1])\n",
        "                houseTrained=True\n",
        "            elif texts[i]==\"HEALTH\":\n",
        "                vaccinations.append(texts[i+1])\n",
        "                vaccinated=True\n",
        "            elif texts[i]==\"GOOD IN A HOME WITH\":\n",
        "                prefers_home_with.append(texts[i+1])\n",
        "                prefersHomeWith=True\n",
        "            elif texts[i]==\"PREFERS A HOME WITHOUT\":\n",
        "                prefers_home_without.append(texts[i+1])\n",
        "                prefersHomeWithout=True\n",
        "            elif texts[i]==\"ADOPTION FEE\":\n",
        "                adoption_fee.append(texts[i+1])\n",
        "                adoptionFee=True\n",
        "\n",
        "        if coatLen==False:\n",
        "            coat_length.append(None)\n",
        "        if houseTrained==False:\n",
        "            house_trained.append(None)\n",
        "        if vaccinated==False:\n",
        "            vaccinations.append(None)\n",
        "        if prefersHomeWith==False:\n",
        "            prefers_home_with.append(None)\n",
        "        if prefersHomeWithout==False:\n",
        "            prefers_home_without.append(None)\n",
        "        if adoptionFee==False:\n",
        "            adoption_fee.append(None)\n",
        "\n",
        "    except:\n",
        "        coat_length.append(None)\n",
        "        house_trained.append(None)\n",
        "        vaccinations.append(None)\n",
        "        prefers_home_with.append(None)\n",
        "        prefers_home_without.append(None)\n",
        "        adoption_fee.append(None)\n",
        "\n",
        "driver.quit()\n",
        "\n",
        "lists=[names,age_groups,races,sexes,sizes,colors,vaccinations,adoption_fee,coat_length,house_trained,prefers_home_with,prefers_home_without]\n",
        "file_names=[\"names.txt\",\"age_groups.txt\",\"races.txt\",\"sexes.txt\",\"sizes.txt\",\n",
        "           \"colors.txt\",\"vaccinations.txt\",\"adoption_fee.txt\",\"coat_length.txt\",\"house_trained.txt\",\"prefers_home_with.txt\",\"prefers_home_without.txt\"]\n",
        "for i in range(len(lists)):\n",
        "    f = open(file_names[i], \"w\")\n",
        "    for item in lists[i]:\n",
        "        if item==None:\n",
        "            f.write(\"None\\n\")\n",
        "        else:\n",
        "            f.write(item+\"\\n\")\n",
        "    f.close()\n",
        "\n",
        "dt = datetime.now()\n",
        "ts = datetime.timestamp(dt)\n",
        "dt = datetime.fromtimestamp(ts)\n",
        "print(dt)"
      ]
    },
    {
      "cell_type": "markdown",
      "id": "7cf3102f",
      "metadata": {
        "id": "7cf3102f"
      },
      "source": [
        "<b>Making sure we collected the data properly.</b>"
      ]
    },
    {
      "cell_type": "code",
      "execution_count": null,
      "id": "dfe77b50",
      "metadata": {
        "id": "dfe77b50",
        "outputId": "2f3fedb1-750b-4fa2-dd89-a5e95ec48693"
      },
      "outputs": [
        {
          "name": "stdout",
          "output_type": "stream",
          "text": [
            "49997\n",
            "---------------------------------------\n",
            "49997\n",
            "---------------------------------------\n",
            "49997\n",
            "---------------------------------------\n",
            "49997\n",
            "---------------------------------------\n",
            "49997\n",
            "---------------------------------------\n",
            "49997\n",
            "---------------------------------------\n",
            "49997\n",
            "---------------------------------------\n",
            "49997\n",
            "---------------------------------------\n",
            "49997\n",
            "---------------------------------------\n",
            "49997\n",
            "---------------------------------------\n",
            "49997\n",
            "---------------------------------------\n",
            "49997\n"
          ]
        }
      ],
      "source": [
        "print(len(names))\n",
        "print(\"---------------------------------------\")\n",
        "print(len(age_groups))\n",
        "print(\"---------------------------------------\")\n",
        "print(len(races))\n",
        "print(\"---------------------------------------\")\n",
        "print(len(sexes))\n",
        "print(\"---------------------------------------\")\n",
        "print(len(sizes))\n",
        "print(\"---------------------------------------\")\n",
        "print(len(colors))\n",
        "print(\"---------------------------------------\")\n",
        "print(len(vaccinations))\n",
        "print(\"---------------------------------------\")\n",
        "print(len(adoption_fee))\n",
        "print(\"---------------------------------------\")\n",
        "print(len(coat_length))\n",
        "print(\"---------------------------------------\")\n",
        "print(len(house_trained))\n",
        "print(\"---------------------------------------\")\n",
        "print(len(prefers_home_with))\n",
        "print(\"---------------------------------------\")\n",
        "print(len(prefers_home_without))"
      ]
    },
    {
      "cell_type": "markdown",
      "id": "a69dc36b",
      "metadata": {
        "id": "a69dc36b"
      },
      "source": [
        "<b>Creating the dataframes from the lists we collected.</b>"
      ]
    },
    {
      "cell_type": "code",
      "execution_count": null,
      "id": "a7ac5655",
      "metadata": {
        "id": "a7ac5655"
      },
      "outputs": [],
      "source": [
        "adopted=pd.DataFrame({\"name\":names1,\"age_group\":age_groups1,\"race\":races1,\"sex\":sexes1,\"size\":sizes1,\"color\":colors1,\"vaccination\":vaccinations1,\"adoption_fee\":adoption_fee1,\"coat_length\":coat_length1,\"house_trained\":house_trained1,\"prefers_home_with\":prefers_home_with1,\"prefers_home_without\":prefers_home_without1})\n",
        "non_adopted=pd.DataFrame({\"name\":names2,\"age_group\":age_groups2,\"race\":races2,\"sex\":sexes2,\"size\":sizes2,\"color\":colors2,\"vaccination\":vaccinations2,\"adoption_fee\":adoption_fee2,\"coat_length\":coat_length2,\"house_trained\":house_trained2,\"prefers_home_with\":prefers_home_with2,\"prefers_home_without\":prefers_home_without2})"
      ]
    },
    {
      "cell_type": "markdown",
      "id": "b4e81484",
      "metadata": {
        "id": "b4e81484"
      },
      "source": [
        "<b>Realizing that a dataframe already has a property named \"size\" so it can't have a column sharing the same name.</b>"
      ]
    },
    {
      "cell_type": "code",
      "execution_count": null,
      "id": "ad860bd4",
      "metadata": {
        "id": "ad860bd4"
      },
      "outputs": [],
      "source": [
        "adopted=adopted.rename(columns={\"size\":\"dog_size\"})\n",
        "non_adopted=non_adopted.rename(columns={\"size\":\"dog_size\"})"
      ]
    },
    {
      "cell_type": "markdown",
      "id": "a22e8680",
      "metadata": {
        "id": "a22e8680"
      },
      "source": [
        "<b>Saving dataframes to csv files.</b>"
      ]
    },
    {
      "cell_type": "code",
      "execution_count": null,
      "id": "92b7ef07",
      "metadata": {
        "id": "92b7ef07"
      },
      "outputs": [],
      "source": [
        "adopted.to_csv(\"adopted.csv\",index=False)\n",
        "non_adopted.to_csv(\"non_adopted.csv\",index=False)"
      ]
    },
    {
      "cell_type": "markdown",
      "id": "a0b23112",
      "metadata": {
        "id": "a0b23112"
      },
      "source": [
        "<b>Concating the dataframes to prevent writing the same lines of code twice.</b>"
      ]
    },
    {
      "cell_type": "code",
      "execution_count": null,
      "id": "dc342959",
      "metadata": {
        "id": "dc342959"
      },
      "outputs": [],
      "source": [
        "mixed=pd.concat([adopted,non_adopted])"
      ]
    },
    {
      "cell_type": "markdown",
      "id": "0cf1e560",
      "metadata": {
        "id": "0cf1e560"
      },
      "source": [
        "<b>Filling missing adoption fees with 0.</b>"
      ]
    },
    {
      "cell_type": "code",
      "execution_count": null,
      "id": "addd5c93",
      "metadata": {
        "id": "addd5c93"
      },
      "outputs": [],
      "source": [
        "mixed.adoption_fee=mixed.adoption_fee.fillna(0)"
      ]
    },
    {
      "cell_type": "markdown",
      "id": "33707727",
      "metadata": {
        "id": "33707727"
      },
      "source": [
        "<b>Converting the adoption fee column from string to number.</b>"
      ]
    },
    {
      "cell_type": "code",
      "execution_count": null,
      "id": "6f5fab56",
      "metadata": {
        "id": "6f5fab56",
        "outputId": "4443f2de-e1c8-4e2f-d789-4632bbd92711"
      },
      "outputs": [
        {
          "name": "stdout",
          "output_type": "stream",
          "text": [
            "dtype('float64')\n"
          ]
        }
      ],
      "source": [
        "mixed.adoption_fee=mixed.adoption_fee.str.removesuffix(\"\")\n",
        "mixed.adoption_fee=mixed.adoption_fee.str.removeprefix(\"$\")\n",
        "mixed.adoption_fee=pd.to_numeric(mixed.adoption_fee)\n",
        "mixed.adoption_fee.dtype"
      ]
    },
    {
      "cell_type": "markdown",
      "id": "b8983d39",
      "metadata": {
        "id": "b8983d39"
      },
      "source": [
        "<b>Replacing the house trained column string values with numerical values and filling missing values with 0.</b>"
      ]
    },
    {
      "cell_type": "code",
      "execution_count": null,
      "id": "45016f05",
      "metadata": {
        "id": "45016f05"
      },
      "outputs": [],
      "source": [
        "mixed.house_trained=mixed.house_trained.replace({\"None\":0,\"Yes\":1,\"1\":1,\"0\":0})\n",
        "mixed.house_trained=mixed.house_trained.fillna(0)"
      ]
    },
    {
      "cell_type": "markdown",
      "id": "c340b130",
      "metadata": {
        "id": "c340b130"
      },
      "source": [
        "<b>Replacing the dog size column string values with numerical values.</b>"
      ]
    },
    {
      "cell_type": "code",
      "execution_count": null,
      "id": "d64afa0e",
      "metadata": {
        "id": "d64afa0e"
      },
      "outputs": [],
      "source": [
        "mixed.dog_size=mixed.dog_size.replace({\"Small\":1,\"Medium\":2,\"Large\":3,\"Extra Large\":4})"
      ]
    },
    {
      "cell_type": "markdown",
      "id": "e7628012",
      "metadata": {
        "id": "e7628012"
      },
      "source": [
        "<b>Filling missing values in the sex column and Replacing the string values with numerical values.</b>"
      ]
    },
    {
      "cell_type": "code",
      "execution_count": null,
      "id": "71bf20a0",
      "metadata": {
        "id": "71bf20a0"
      },
      "outputs": [],
      "source": [
        "mixed.sex=mixed.sex.replace({\"Unknown\":np.nan})\n",
        "mixed.sex = mixed.sex.fillna(method='ffill').fillna(method='bfill')\n",
        "mixed.sex=mixed.sex.replace({\"Male\":0,\"Female\":1})"
      ]
    },
    {
      "cell_type": "markdown",
      "id": "6a1b3989",
      "metadata": {
        "id": "6a1b3989"
      },
      "source": [
        "<b>Replacing the string values in the age group column with numerical values.</b>"
      ]
    },
    {
      "cell_type": "code",
      "execution_count": null,
      "id": "33494af2",
      "metadata": {
        "id": "33494af2"
      },
      "outputs": [],
      "source": [
        "mixed.age_group=mixed.age_group.replace({\"Puppy\":1,\"Young\":2,\"Adult\":3,\"Senior\":4})"
      ]
    },
    {
      "cell_type": "markdown",
      "id": "5d654d0f",
      "metadata": {
        "id": "5d654d0f"
      },
      "source": [
        "<b>Filling missing values in the coat length column and Replacing the string values with numerical values.</b>"
      ]
    },
    {
      "cell_type": "code",
      "execution_count": null,
      "id": "12c5b365",
      "metadata": {
        "id": "12c5b365"
      },
      "outputs": [],
      "source": [
        "mixed.coat_length = mixed.coat_length.replace({\"nan\":np.nan,\"None\":np.nan})\n",
        "mixed.coat_length = mixed.coat_length.fillna(method='ffill').fillna(method='bfill')\n",
        "mixed.coat_length = mixed.coat_length.replace({\"Short\":1,\"Medium\":2,\"Long\":3,\"Wire\":4,\"Curly\":5,\"Hairless\":6})"
      ]
    },
    {
      "cell_type": "markdown",
      "id": "38d90397",
      "metadata": {
        "id": "38d90397"
      },
      "source": [
        "<b>For the \"prefers home with\" column, we decided to count the number of commas in the cell and assign a value accordingly, no text in the cell was assigned 0 and every other case was assigned the number of commas plus 1.</b>"
      ]
    },
    {
      "cell_type": "code",
      "execution_count": null,
      "id": "e28b8563",
      "metadata": {
        "id": "e28b8563"
      },
      "outputs": [],
      "source": [
        "home_with=mixed.prefers_home_with.tolist()\n",
        "count=[]\n",
        "for i in range(len(home_with)):\n",
        "    if type(home_with[i])==str:\n",
        "        if home_with[i].count(\",\")==0:\n",
        "            count.append(1)\n",
        "        else:\n",
        "            count.append(home_with[i].count(\",\")+1)\n",
        "    else:\n",
        "        count.append(0)\n",
        "mixed.prefers_home_with=count"
      ]
    },
    {
      "cell_type": "markdown",
      "id": "38a68cc3",
      "metadata": {
        "id": "38a68cc3"
      },
      "source": [
        "<b>The column \"prefers home without\" got the same treatment as the previous column.</b>"
      ]
    },
    {
      "cell_type": "code",
      "execution_count": null,
      "id": "e9053bde",
      "metadata": {
        "id": "e9053bde"
      },
      "outputs": [],
      "source": [
        "home_without=mixed.prefers_home_without.tolist()\n",
        "count=[]\n",
        "for i in range(len(home_without)):\n",
        "    if type(home_without[i])==str:\n",
        "        if home_without[i].count(\",\")==0:\n",
        "            count.append(1)\n",
        "        else:\n",
        "            count.append(home_without[i].count(\",\")+1)\n",
        "    else:\n",
        "        count.append(0)\n",
        "mixed.prefers_home_without=count"
      ]
    },
    {
      "cell_type": "markdown",
      "id": "adab4730",
      "metadata": {
        "id": "adab4730"
      },
      "source": [
        "<b>Filling missing values in the \"vaccination\" column and assigning a numerical value according to the text in the cell."
      ]
    },
    {
      "cell_type": "code",
      "execution_count": null,
      "id": "7941140c",
      "metadata": {
        "id": "7941140c"
      },
      "outputs": [],
      "source": [
        "mixed.vaccination = mixed.vaccination.fillna(method='ffill').fillna(method='bfill')\n",
        "vaccination=mixed.vaccination.tolist()\n",
        "count=[]\n",
        "for vac in vaccination:\n",
        "    if type(vac)!=str:\n",
        "        print(vac)\n",
        "        break\n",
        "    if vac.find(\"Vaccinations up to date, spayed / neutered.\")!=-1:\n",
        "        count.append(1)\n",
        "    elif vac.find(\"Vaccinations up to date.\")!=-1 or vac.find(\"Spayed / neutered.\")!=-1:\n",
        "        count.append(2)\n",
        "    else:\n",
        "        count.append(3)\n",
        "mixed[\"vaccination_count\"]=count"
      ]
    },
    {
      "cell_type": "markdown",
      "id": "5870cdcb",
      "metadata": {
        "id": "5870cdcb"
      },
      "source": [
        "<b>For the \"race\" column, we decided to check whether or not the dog is pure bred and assign a numerical value accordingly."
      ]
    },
    {
      "cell_type": "code",
      "execution_count": null,
      "id": "cc9d6e5a",
      "metadata": {
        "id": "cc9d6e5a"
      },
      "outputs": [],
      "source": [
        "race=mixed.race.tolist()\n",
        "count=[]\n",
        "for item in race:\n",
        "    if item.find(\"Mix\")!=-1:\n",
        "        count.append(0)\n",
        "    else:\n",
        "        count.append(1)\n",
        "mixed[\"race_num\"]=count"
      ]
    },
    {
      "cell_type": "markdown",
      "id": "708dd1d4",
      "metadata": {
        "id": "708dd1d4"
      },
      "source": [
        "<b>Assigning a boolean value to the \"adoption fee\" column."
      ]
    },
    {
      "cell_type": "code",
      "execution_count": null,
      "id": "f21867bb",
      "metadata": {
        "id": "f21867bb"
      },
      "outputs": [],
      "source": [
        "fee=mixed.adoption_fee.tolist()\n",
        "count=[]\n",
        "for item in fee:\n",
        "    if item>0:\n",
        "        count.append(1)\n",
        "    else:\n",
        "        count.append(0)\n",
        "mixed[\"bool_adoption_fee\"]=count"
      ]
    },
    {
      "cell_type": "markdown",
      "id": "0cb06d54",
      "metadata": {
        "id": "0cb06d54"
      },
      "source": [
        "<b>Saving the current dataframe to a csv file to prevent accidents."
      ]
    },
    {
      "cell_type": "code",
      "execution_count": null,
      "id": "c3b3f46a",
      "metadata": {
        "id": "c3b3f46a"
      },
      "outputs": [],
      "source": [
        "mixed.to_csv(\"mixed_modified.csv\",index=False)"
      ]
    },
    {
      "cell_type": "code",
      "execution_count": null,
      "id": "77f53b6e",
      "metadata": {
        "id": "77f53b6e",
        "outputId": "1e5efea1-f61e-4262-805d-cab6e7640337"
      },
      "outputs": [
        {
          "data": {
            "text/plain": [
              "<Figure size 10000x10000 with 0 Axes>"
            ]
          },
          "execution_count": 2,
          "metadata": {},
          "output_type": "execute_result"
        },
        {
          "data": {
            "text/plain": [
              "<Figure size 10000x10000 with 0 Axes>"
            ]
          },
          "metadata": {},
          "output_type": "display_data"
        }
      ],
      "source": [
        "mixed=pd.read_csv(\"mixed_modified.csv\")\n",
        "plt.figure(figsize=(100,100))"
      ]
    },
    {
      "cell_type": "markdown",
      "id": "9a0d2231",
      "metadata": {
        "id": "9a0d2231"
      },
      "source": [
        "</br></br></br></br><b>\n",
        "In the graph bellow, we can see a few correlations between some of the attributes in our dataframe. In the following graphs we will show the correlations between those attributes!\n",
        "</br></br></br></br>"
      ]
    },
    {
      "cell_type": "code",
      "execution_count": null,
      "id": "ea7a4861",
      "metadata": {
        "id": "ea7a4861",
        "outputId": "8cf0e63b-ae5b-4c00-be65-c1637b88f30e"
      },
      "outputs": [
        {
          "data": {
            "text/plain": [
              "<AxesSubplot:>"
            ]
          },
          "execution_count": 91,
          "metadata": {},
          "output_type": "execute_result"
        },
        {
          "data": {
            "image/png": "[encoded data removed]",
            "text/plain": [
              "<Figure size 640x480 with 2 Axes>"
            ]
          },
          "metadata": {},
          "output_type": "display_data"
        }
      ],
      "source": [
        "sns.heatmap(mixed.corr())\n"
      ]
    },
    {
      "cell_type": "markdown",
      "id": "e9718df4",
      "metadata": {
        "id": "e9718df4"
      },
      "source": [
        "</br></br></br></br><b>\n",
        "In the graph bellow we can see the correlation between the amount of things that the dog can't live with in its house and whether or not it was adopted. We can see very clearly that even a sigle item will reduce the dog's chance to be adopted!</b>\n",
        "</br></br></br></br>"
      ]
    },
    {
      "cell_type": "code",
      "execution_count": null,
      "id": "c0654dcb",
      "metadata": {
        "scrolled": false,
        "id": "c0654dcb",
        "outputId": "1df183cb-ca10-46e8-b208-9d1feca86209"
      },
      "outputs": [
        {
          "data": {
            "text/plain": [
              "Text(0.5, 1.0, 'Prefers Home Without vs. Adoption Rate')"
            ]
          },
          "execution_count": 92,
          "metadata": {},
          "output_type": "execute_result"
        },
        {
          "data": {
            "image/png": "[encoded data removed]",
            "text/plain": [
              "<Figure size 1000x500 with 1 Axes>"
            ]
          },
          "metadata": {},
          "output_type": "display_data"
        }
      ],
      "source": [
        "pd.crosstab(mixed.adopted,mixed.prefers_home_without_count).plot(kind='bar',figsize=(10,5))\n",
        "plt.ylabel('Amount of Dogs')\n",
        "plt.xlabel('Adopted')\n",
        "plt.title(\"Prefers Home Without vs. Adoption Rate\")"
      ]
    },
    {
      "cell_type": "markdown",
      "id": "4a896e18",
      "metadata": {
        "id": "4a896e18"
      },
      "source": [
        "</br></br></br></br><b>\n",
        "In this graph, we can see that a dog that has an adoption fee has a lower chance of being adopted compared to a dog with no adoption fee!</b>\n",
        "</br></br></br></br>"
      ]
    },
    {
      "cell_type": "code",
      "execution_count": null,
      "id": "9b267834",
      "metadata": {
        "scrolled": false,
        "id": "9b267834",
        "outputId": "53a13e94-13b5-445d-deb7-1e46b2bf2679"
      },
      "outputs": [
        {
          "data": {
            "text/plain": [
              "Text(0.5, 1.0, 'Adoption Fee vs. Adoption Rate')"
            ]
          },
          "execution_count": 93,
          "metadata": {},
          "output_type": "execute_result"
        },
        {
          "data": {
            "image/png": "[encoded data removed]",
            "text/plain": [
              "<Figure size 1000x1000 with 1 Axes>"
            ]
          },
          "metadata": {},
          "output_type": "display_data"
        }
      ],
      "source": [
        "pd.crosstab(mixed.adopted,mixed.bool_adoption_fee).plot(kind='bar',figsize=(10,10))\n",
        "plt.ylabel('Amount of Dogs')\n",
        "plt.xlabel('Adopted')\n",
        "plt.title(\"Adoption Fee vs. Adoption Rate\")"
      ]
    },
    {
      "cell_type": "markdown",
      "id": "6e944369",
      "metadata": {
        "id": "6e944369"
      },
      "source": [
        "</br></br></br></br><b>\n",
        "In the beginning of our project, we assumed that there is a coerrelation between the age of the dog and the chance that it will be adopted. in the following graph we can see that our assumption was incorrect and that in fact, <b>there is no correlation between the age of the dog and people's will to adopt it!</b>\n",
        "</br></br></br></br>"
      ]
    },
    {
      "cell_type": "code",
      "execution_count": null,
      "id": "65b8dedf",
      "metadata": {
        "id": "65b8dedf",
        "outputId": "13232f75-4f8c-4c81-b7f4-21561c49e13e"
      },
      "outputs": [
        {
          "data": {
            "text/plain": [
              "Text(0.5, 1.0, 'Age vs. Adoption Rate')"
            ]
          },
          "execution_count": 94,
          "metadata": {},
          "output_type": "execute_result"
        },
        {
          "data": {
            "image/png": "[encoded data removed]",
            "text/plain": [
              "<Figure size 1000x1000 with 1 Axes>"
            ]
          },
          "metadata": {},
          "output_type": "display_data"
        }
      ],
      "source": [
        "pd.crosstab(mixed.adopted,mixed.age_group).plot(kind='bar',figsize=(10,10))\n",
        "plt.ylabel('Amount of Dogs')\n",
        "plt.xlabel('Adopted')\n",
        "plt.title(\"Age vs. Adoption Rate\")"
      ]
    },
    {
      "cell_type": "markdown",
      "id": "2a2641ff",
      "metadata": {
        "id": "2a2641ff"
      },
      "source": [
        "</br></br></br></br><b>\n",
        "We also assumed that people would prefer to adopt a pure bred dog rather than a mixed breed which turned out to also be incorrect</b>.\n",
        "</br></br></br></br>"
      ]
    },
    {
      "cell_type": "code",
      "execution_count": null,
      "id": "ec3307d7",
      "metadata": {
        "id": "ec3307d7",
        "outputId": "e302c3c8-a0c4-48dc-fdf0-80f49570463e"
      },
      "outputs": [
        {
          "data": {
            "text/plain": [
              "Text(0.5, 1.0, 'Dog Breed vs. Adoption Rate')"
            ]
          },
          "execution_count": 95,
          "metadata": {},
          "output_type": "execute_result"
        },
        {
          "data": {
            "image/png": "[encoded data removed]",
            "text/plain": [
              "<Figure size 1000x1000 with 1 Axes>"
            ]
          },
          "metadata": {},
          "output_type": "display_data"
        }
      ],
      "source": [
        "pd.crosstab(mixed.adopted,mixed.race_num).plot(kind='bar',figsize=(10,10))\n",
        "plt.ylabel('Amount of Dogs')\n",
        "plt.xlabel('Adopted')\n",
        "plt.title(\"Dog Breed vs. Adoption Rate\")"
      ]
    },
    {
      "cell_type": "markdown",
      "id": "131e51fd",
      "metadata": {
        "id": "131e51fd"
      },
      "source": [
        "<b>Shuffling the dataframe so that the dataframe won't be made of two parts which are exclusively adopted or non-adopted and also dropping the irrelevant string columns."
      ]
    },
    {
      "cell_type": "code",
      "execution_count": null,
      "id": "23f689bd",
      "metadata": {
        "scrolled": true,
        "id": "23f689bd",
        "outputId": "b1a6a9e2-1627-4bf9-aa54-18841d3ba9ab"
      },
      "outputs": [
        {
          "name": "stderr",
          "output_type": "stream",
          "text": [
            "C:\\Users\\Herr Yulie\\AppData\\Local\\Temp\\ipykernel_2652\\844104349.py:2: FutureWarning: In a future version of pandas all arguments of DataFrame.dropna will be keyword-only.\n",
            "  mixed=mixed.copy().drop(columns={\"name\",\"color\"}).dropna(0,how=\"any\")\n"
          ]
        }
      ],
      "source": [
        "mixed=mixed.copy().sort_values(by=\"name\")\n",
        "mixed=mixed.copy().drop(columns={\"name\",\"color\"}).dropna(0,how=\"any\")"
      ]
    },
    {
      "cell_type": "markdown",
      "id": "0c6f3fc5",
      "metadata": {
        "id": "0c6f3fc5"
      },
      "source": [
        "<b>Seperating the dataframe to X and y tables."
      ]
    },
    {
      "cell_type": "code",
      "execution_count": null,
      "id": "3d4c9d19",
      "metadata": {
        "id": "3d4c9d19"
      },
      "outputs": [],
      "source": [
        "y=pd.DataFrame({\"adopted\":mixed.adopted})\n",
        "X=mixed.copy().drop(columns=\"adopted\")"
      ]
    },
    {
      "cell_type": "markdown",
      "id": "92139051",
      "metadata": {
        "id": "92139051"
      },
      "source": [
        "<b>Dividing the tables to train sets and test sets."
      ]
    },
    {
      "cell_type": "code",
      "execution_count": null,
      "id": "dd31ea1d",
      "metadata": {
        "id": "dd31ea1d"
      },
      "outputs": [],
      "source": [
        "y_vector=pd.DataFrame({\"adopted\":mixed.adopted})\n",
        "X_train=X.head(13757)\n",
        "y_train=y_vector.head(13757)\n",
        "X_test=X.tail(5896)\n",
        "y_test=y_vector.tail(5896)"
      ]
    },
    {
      "cell_type": "markdown",
      "id": "78228d56",
      "metadata": {
        "id": "78228d56"
      },
      "source": [
        "<b>Creating a model an training it using the training sets."
      ]
    },
    {
      "cell_type": "code",
      "execution_count": null,
      "id": "110432bf",
      "metadata": {
        "id": "110432bf",
        "outputId": "850aee3d-4633-4b39-c5d3-5a2895f03130"
      },
      "outputs": [
        {
          "data": {
            "text/plain": [
              "LogisticRegression(max_iter=15000)"
            ]
          },
          "execution_count": 72,
          "metadata": {},
          "output_type": "execute_result"
        }
      ],
      "source": [
        "model=LogisticRegression(max_iter=15000)\n",
        "y_train=np.ravel(y_train)\n",
        "y_test=np.ravel(y_test)\n",
        "model.fit(X_train,y_train)"
      ]
    },
    {
      "cell_type": "markdown",
      "id": "34b3bddc",
      "metadata": {
        "id": "34b3bddc"
      },
      "source": [
        "<b>Testing the model using the test sets."
      ]
    },
    {
      "cell_type": "code",
      "execution_count": null,
      "id": "83a8f6b8",
      "metadata": {
        "scrolled": true,
        "id": "83a8f6b8",
        "outputId": "9c97fa5e-1b55-467b-83a2-7d1e115da637"
      },
      "outputs": [
        {
          "name": "stdout",
          "output_type": "stream",
          "text": [
            "accuracy is: 0.9328358208955224\n",
            "precision is: 0.9626068376068376\n",
            "recall is: 0.9028056112224448\n",
            "f1 is: 0.9317476732161324\n"
          ]
        }
      ],
      "source": [
        "predictions=model.predict(X_test)\n",
        "y_pred = pd.Series(predictions,index=X_test.index)\n",
        "print(\"accuracy is:\",metrics.accuracy_score(y_test, y_pred))\n",
        "print(\"precision is:\",metrics.precision_score(y_test, y_pred))\n",
        "print(\"recall is:\",metrics.recall_score(y_test, y_pred))\n",
        "print(\"f1 is:\",metrics.f1_score(y_test, y_pred))"
      ]
    },
    {
      "cell_type": "markdown",
      "id": "cdeabee6",
      "metadata": {
        "id": "cdeabee6"
      },
      "source": [
        "<b>Calculating the confusion matrix for the test set."
      ]
    },
    {
      "cell_type": "code",
      "execution_count": null,
      "id": "e90b7d08",
      "metadata": {
        "id": "e90b7d08",
        "outputId": "5ccfc2ab-beb5-4f6a-8882-c0d053bae85d"
      },
      "outputs": [
        {
          "data": {
            "image/png": "[encoded data removed]",
            "text/plain": [
              "<Figure size 800x600 with 2 Axes>"
            ]
          },
          "metadata": {},
          "output_type": "display_data"
        }
      ],
      "source": [
        "y_pred = model.predict(X_test)\n",
        "cm = metrics.confusion_matrix(y_test, y_pred)\n",
        "\n",
        "plt.figure(figsize=(8, 6))\n",
        "sns.heatmap(cm, annot=True, fmt='d', cmap='Blues')\n",
        "\n",
        "plt.title('Confusion Matrix')\n",
        "plt.xlabel('Predicted')\n",
        "plt.ylabel('Actual')\n",
        "\n",
        "class_labels = ['Not adopted', 'Adopted']  # Replace with your actual class labels\n",
        "tick_marks = [0.5, 1.5]\n",
        "plt.xticks(tick_marks, class_labels)\n",
        "plt.yticks(tick_marks, class_labels)\n",
        "\n",
        "plt.show()"
      ]
    },
    {
      "cell_type": "markdown",
      "id": "9e83c013",
      "metadata": {
        "id": "9e83c013"
      },
      "source": [
        "<b>The results we got using the test set were extremely good, which made us suspect that we either did somethig wrong or we got lucky with the test cases. We decided to get more test cases so we ran the web crawler again to get more dogs data in order to run another test. The additional dogs got the same data cleaning treatment as the train and test sets."
      ]
    },
    {
      "cell_type": "code",
      "execution_count": null,
      "id": "feb1a136",
      "metadata": {
        "id": "feb1a136",
        "outputId": "a24c42ca-67f1-4bcf-bcfe-8d1cc1699ddc"
      },
      "outputs": [
        {
          "name": "stderr",
          "output_type": "stream",
          "text": [
            "C:\\Users\\Herr Yulie\\AppData\\Local\\Temp\\ipykernel_9680\\857319891.py:5: FutureWarning: In a future version of pandas all arguments of DataFrame.dropna will be keyword-only.\n",
            "  X2=X2.drop(columns={\"name\",\"color\"}).dropna(0,\"any\")\n"
          ]
        }
      ],
      "source": [
        "y2=pd.read_csv(\"y.csv\")\n",
        "X2=pd.read_csv(\"X.csv\")\n",
        "X2[\"adopted\"]=y2\n",
        "X2=X2.sort_values(by=\"name\")\n",
        "X2=X2.drop(columns={\"name\",\"color\"}).dropna(0,\"any\")\n",
        "y2=X2.adopted\n",
        "X2=X2.drop(columns=\"adopted\")"
      ]
    },
    {
      "cell_type": "markdown",
      "id": "eac36ead",
      "metadata": {
        "id": "eac36ead"
      },
      "source": [
        "<b>The results we got from the second test set were more in line with the results we expected."
      ]
    },
    {
      "cell_type": "code",
      "execution_count": null,
      "id": "76730106",
      "metadata": {
        "id": "76730106",
        "outputId": "81fa43c9-79b7-4aa8-8813-ebdafdf95ed1"
      },
      "outputs": [
        {
          "name": "stdout",
          "output_type": "stream",
          "text": [
            "accuracy is: 0.577189286789046\n",
            "precision is: 0.5453687315634218\n",
            "recall is: 0.9273675762439807\n",
            "f1 is: 0.6868266587413626\n"
          ]
        }
      ],
      "source": [
        "predictions=model.predict(X2)\n",
        "y_pred = pd.Series(predictions,index=X2.index)\n",
        "print(\"accuracy is:\",metrics.accuracy_score(y2, y_pred))\n",
        "print(\"precision is:\",metrics.precision_score(y2, y_pred))\n",
        "print(\"recall is:\",metrics.recall_score(y2, y_pred))\n",
        "print(\"f1 is:\",metrics.f1_score(y2, y_pred))"
      ]
    },
    {
      "cell_type": "markdown",
      "id": "a927373a",
      "metadata": {
        "id": "a927373a"
      },
      "source": [
        "<b>We calculated the confusion matrix for the second test set."
      ]
    },
    {
      "cell_type": "code",
      "execution_count": null,
      "id": "5a8659c4",
      "metadata": {
        "id": "5a8659c4",
        "outputId": "b2960c78-02d9-4534-cd27-033c4674cd71"
      },
      "outputs": [
        {
          "data": {
            "text/plain": [
              "([<matplotlib.axis.YTick at 0x246511222b0>,\n",
              "  <matplotlib.axis.YTick at 0x24651118af0>],\n",
              " [Text(0, 0.5, 'Not adopted'), Text(0, 1.5, 'Adopted')])"
            ]
          },
          "execution_count": 88,
          "metadata": {},
          "output_type": "execute_result"
        },
        {
          "data": {
            "image/png": "[encoded data removed]",
            "text/plain": [
              "<Figure size 800x600 with 2 Axes>"
            ]
          },
          "metadata": {},
          "output_type": "display_data"
        }
      ],
      "source": [
        "y_pred = model.predict(X2)\n",
        "cm = metrics.confusion_matrix(y2, y_pred)\n",
        "\n",
        "plt.figure(figsize=(8, 6))\n",
        "sns.heatmap(cm, annot=True, fmt='d', cmap='Blues')\n",
        "\n",
        "plt.title('Confusion Matrix')\n",
        "plt.xlabel('Predicted')\n",
        "plt.ylabel('Actual')\n",
        "\n",
        "class_labels = ['Not adopted', 'Adopted']\n",
        "tick_marks = [0.5, 1.5]\n",
        "plt.xticks(tick_marks, class_labels)\n",
        "plt.yticks(tick_marks, class_labels)"
      ]
    },
    {
      "cell_type": "markdown",
      "id": "47b9fd57",
      "metadata": {
        "id": "47b9fd57"
      },
      "source": [
        "<b>We started questioning whether or not the \"coat length\" property was processed correctly and decided to run the test without said column."
      ]
    },
    {
      "cell_type": "code",
      "execution_count": null,
      "id": "0a10f6a2",
      "metadata": {
        "id": "0a10f6a2"
      },
      "outputs": [],
      "source": [
        "mixed_no_coat=mixed.drop(columns=\"coat_length\")"
      ]
    },
    {
      "cell_type": "code",
      "execution_count": null,
      "id": "31b17c4c",
      "metadata": {
        "id": "31b17c4c"
      },
      "outputs": [],
      "source": [
        "y_no_coat=pd.DataFrame({\"adopted\":mixed_no_coat.adopted})\n",
        "X_no_coat=mixed_no_coat.copy().drop(columns=\"adopted\")\n",
        "y_vector_no_coat=pd.DataFrame({\"adopted\":mixed_no_coat.adopted})\n",
        "X_train_no_coat=X_no_coat.head(13757)\n",
        "y_train_no_coat=y_vector_no_coat.head(13757)\n",
        "X_test_no_coat=X_no_coat.tail(5896)\n",
        "y_test_no_coat=y_vector_no_coat.tail(5896)"
      ]
    },
    {
      "cell_type": "code",
      "execution_count": null,
      "id": "5d875020",
      "metadata": {
        "id": "5d875020",
        "outputId": "ce352900-fbb4-4841-b838-d0100df10e5f"
      },
      "outputs": [
        {
          "data": {
            "text/plain": [
              "LogisticRegression(max_iter=15000)"
            ]
          },
          "execution_count": 25,
          "metadata": {},
          "output_type": "execute_result"
        }
      ],
      "source": [
        "model_no_coat=LogisticRegression(max_iter=15000)\n",
        "y_train_no_coat=np.ravel(y_train_no_coat)\n",
        "y_test_no_coat=np.ravel(y_test_no_coat)\n",
        "model_no_coat.fit(X_train_no_coat,y_train_no_coat)"
      ]
    },
    {
      "cell_type": "code",
      "execution_count": null,
      "id": "97fb6e4c",
      "metadata": {
        "id": "97fb6e4c",
        "outputId": "9513e959-2c3b-44d1-d87b-18497f7fc56a"
      },
      "outputs": [
        {
          "data": {
            "text/plain": [
              "([<matplotlib.axis.YTick at 0x1e9abf64f40>,\n",
              "  <matplotlib.axis.YTick at 0x1e9acbce580>],\n",
              " [Text(0, 0.5, 'Not adopted'), Text(0, 1.5, 'Adopted')])"
            ]
          },
          "execution_count": 28,
          "metadata": {},
          "output_type": "execute_result"
        },
        {
          "data": {
            "image/png": "[encoded data removed]",
            "text/plain": [
              "<Figure size 800x600 with 2 Axes>"
            ]
          },
          "metadata": {},
          "output_type": "display_data"
        }
      ],
      "source": [
        "y_pred_no_coat = model_no_coat.predict(X_test_no_coat)\n",
        "cm_no_coat = metrics.confusion_matrix(y_test_no_coat, y_pred_no_coat)\n",
        "\n",
        "plt.figure(figsize=(8, 6))\n",
        "sns.heatmap(cm_no_coat, annot=True, fmt='d', cmap='Blues')\n",
        "\n",
        "plt.title('Confusion Matrix')\n",
        "plt.xlabel('Predicted')\n",
        "plt.ylabel('Actual')\n",
        "\n",
        "class_labels = ['Not adopted', 'Adopted']\n",
        "tick_marks = [0.5, 1.5]\n",
        "plt.xticks(tick_marks, class_labels)\n",
        "plt.yticks(tick_marks, class_labels)"
      ]
    },
    {
      "cell_type": "code",
      "execution_count": null,
      "id": "7bc7d423",
      "metadata": {
        "id": "7bc7d423",
        "outputId": "c77f796d-80a6-4e25-ef58-31c9a1ece007"
      },
      "outputs": [
        {
          "name": "stdout",
          "output_type": "stream",
          "text": [
            "accuracy is: 0.9246947082767978\n",
            "precision is: 0.9540598290598291\n",
            "recall is: 0.8947895791583166\n",
            "f1 is: 0.9234746639089968\n"
          ]
        }
      ],
      "source": [
        "y_pred = pd.Series(y_pred_no_coat,index=X_test_no_coat.index)\n",
        "print(\"accuracy is:\",metrics.accuracy_score(y_test_no_coat, y_pred_no_coat))\n",
        "print(\"precision is:\",metrics.precision_score(y_test_no_coat, y_pred_no_coat))\n",
        "print(\"recall is:\",metrics.recall_score(y_test_no_coat, y_pred_no_coat))\n",
        "print(\"f1 is:\",metrics.f1_score(y_test_no_coat, y_pred_no_coat))"
      ]
    },
    {
      "cell_type": "markdown",
      "id": "3b01eb9f",
      "metadata": {
        "id": "3b01eb9f"
      },
      "source": [
        "<b>After testing the model without the \"coat length\" property on the original dataset, we saw that the results were suspiciously high, so we ran the test on the more recent dataset."
      ]
    },
    {
      "cell_type": "code",
      "execution_count": null,
      "id": "2e6b5e97",
      "metadata": {
        "id": "2e6b5e97",
        "outputId": "b10677c5-204d-4a47-ab20-5f3c68871524"
      },
      "outputs": [
        {
          "name": "stderr",
          "output_type": "stream",
          "text": [
            "C:\\Users\\Herr Yulie\\AppData\\Local\\Temp\\ipykernel_2652\\977109800.py:5: FutureWarning: In a future version of pandas all arguments of DataFrame.dropna will be keyword-only.\n",
            "  X2=X2.drop(columns={\"name\",\"color\",\"coat_length\"}).dropna(0,\"any\")\n"
          ]
        }
      ],
      "source": [
        "y2=pd.read_csv(\"y.csv\")\n",
        "X2=pd.read_csv(\"X.csv\")\n",
        "X2[\"adopted\"]=y2\n",
        "X2=X2.sort_values(by=\"name\")\n",
        "X2=X2.drop(columns={\"name\",\"color\",\"coat_length\"}).dropna(0,\"any\")\n",
        "y2=X2.adopted\n",
        "X2=X2.drop(columns=\"adopted\")"
      ]
    },
    {
      "cell_type": "code",
      "execution_count": null,
      "id": "89c5b280",
      "metadata": {
        "id": "89c5b280",
        "outputId": "af00dbc4-f68e-4b36-a4b5-283290b571d8"
      },
      "outputs": [
        {
          "data": {
            "text/plain": [
              "([<matplotlib.axis.YTick at 0x1e9a689ab50>,\n",
              "  <matplotlib.axis.YTick at 0x1e9a689a3d0>],\n",
              " [Text(0, 0.5, 'Not adopted'), Text(0, 1.5, 'Adopted')])"
            ]
          },
          "execution_count": 41,
          "metadata": {},
          "output_type": "execute_result"
        },
        {
          "data": {
            "image/png": "[encoded data removed]",
            "text/plain": [
              "<Figure size 800x600 with 2 Axes>"
            ]
          },
          "metadata": {},
          "output_type": "display_data"
        }
      ],
      "source": [
        "y_pred2 = model_no_coat.predict(X2)\n",
        "cm_no_coat2 = metrics.confusion_matrix(y2, y_pred2)\n",
        "\n",
        "plt.figure(figsize=(8, 6))\n",
        "sns.heatmap(cm_no_coat2, annot=True, fmt='d', cmap='Blues')\n",
        "\n",
        "plt.title('Confusion Matrix')\n",
        "plt.xlabel('Predicted')\n",
        "plt.ylabel('Actual')\n",
        "\n",
        "class_labels = ['Not adopted', 'Adopted']\n",
        "tick_marks = [0.5, 1.5]\n",
        "plt.xticks(tick_marks, class_labels)\n",
        "plt.yticks(tick_marks, class_labels)"
      ]
    },
    {
      "cell_type": "code",
      "execution_count": null,
      "id": "2764e49f",
      "metadata": {
        "id": "2764e49f",
        "outputId": "dd4ada9c-31af-499c-9316-ef05800efed1"
      },
      "outputs": [
        {
          "name": "stdout",
          "output_type": "stream",
          "text": [
            "accuracy is: 0.5750827565452904\n",
            "precision is: 0.5442498816848084\n",
            "recall is: 0.9229534510433387\n",
            "f1 is: 0.6847275974992557\n"
          ]
        }
      ],
      "source": [
        "y_pred = pd.Series(y_pred2,index=X2.index)\n",
        "print(\"accuracy is:\",metrics.accuracy_score(y2, y_pred2))\n",
        "print(\"precision is:\",metrics.precision_score(y2, y_pred2))\n",
        "print(\"recall is:\",metrics.recall_score(y2, y_pred2))\n",
        "print(\"f1 is:\",metrics.f1_score(y2, y_pred2))"
      ]
    },
    {
      "cell_type": "markdown",
      "id": "86ab37ee",
      "metadata": {
        "id": "86ab37ee"
      },
      "source": [
        "<b>The new test results were more on par with the expected outcome."
      ]
    }
  ],
  "metadata": {
    "kernelspec": {
      "display_name": "Python 3 (ipykernel)",
      "language": "python",
      "name": "python3"
    },
    "language_info": {
      "codemirror_mode": {
        "name": "ipython",
        "version": 3
      },
      "file_extension": ".py",
      "mimetype": "text/x-python",
      "name": "python",
      "nbconvert_exporter": "python",
      "pygments_lexer": "ipython3",
      "version": "3.9.13"
    },
    "colab": {
      "provenance": []
    }
  },
  "nbformat": 4,
  "nbformat_minor": 5
}